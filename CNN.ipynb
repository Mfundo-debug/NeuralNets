{
 "cells": [
  {
   "cell_type": "code",
   "execution_count": 3,
   "id": "d39f8436-40dd-40dc-b1a3-9cc9ae32d8ca",
   "metadata": {},
   "outputs": [],
   "source": [
    "from keras.models import Sequential\n",
    "from keras.layers import Dense, Dropout, Activation, Flatten\n",
    "from keras.layers import Convolution2D, MaxPooling2D\n",
    "from tensorflow.keras.optimizers import SGD\n",
    "from tensorflow.keras.optimizers import Adam\n",
    "from keras.utils import np_utils\n",
    "from keras import backend as K\n",
    "from keras.datasets import mnist"
   ]
  },
  {
   "cell_type": "code",
   "execution_count": 4,
   "id": "cf3f3b4e-d48d-470d-9a23-3eab740a3122",
   "metadata": {},
   "outputs": [],
   "source": [
    "batch_size = 128\n",
    "nb_classes = 10\n",
    "nb_epoch = 12\n",
    "\n",
    "# input image dimensions\n",
    "img_rows, img_cols = 28, 28\n",
    "# number of convolutional filters to use\n",
    "nb_filters = 32\n",
    "# size of pooling area for max pooling\n",
    "pool_size = (2, 2)\n",
    "# convolution kernel size\n",
    "kernel_size = (3, 3)"
   ]
  },
  {
   "cell_type": "code",
   "execution_count": 7,
   "id": "b4614934-0e32-4623-8ed2-1ee7b786004b",
   "metadata": {},
   "outputs": [
    {
     "name": "stdout",
     "output_type": "stream",
     "text": [
      "X_train shape: (60000, 28, 28, 1)\n",
      "60000 train samples\n",
      "10000 test samples\n"
     ]
    }
   ],
   "source": [
    "# the data, shuffled and split between train and test sets\n",
    "(X_train, y_train), (X_test, y_test) = mnist.load_data()\n",
    "\n",
    "if K.image_data_format() == 'th':\n",
    "    X_train = X_train.reshape(X_train.shape[0], 1, img_rows, img_cols)\n",
    "    X_test = X_test.reshape(X_test.shape[0], 1, img_rows, img_cols)\n",
    "    input_shape = (1, img_rows, img_cols)\n",
    "else:\n",
    "    X_train = X_train.reshape(X_train.shape[0], img_rows, img_cols, 1)\n",
    "    X_test = X_test.reshape(X_test.shape[0], img_rows, img_cols, 1)\n",
    "    input_shape = (img_rows, img_cols, 1)\n",
    "\n",
    "X_train = X_train.astype('float32')\n",
    "X_test = X_test.astype('float32')\n",
    "X_train /= 255\n",
    "X_test /= 255\n",
    "print('X_train shape:', X_train.shape)\n",
    "print(X_train.shape[0], 'train samples')\n",
    "print(X_test.shape[0], 'test samples')"
   ]
  },
  {
   "cell_type": "code",
   "execution_count": 9,
   "id": "b5364e6c-21a5-49d3-9a39-3b004a104726",
   "metadata": {},
   "outputs": [
    {
     "name": "stdout",
     "output_type": "stream",
     "text": [
      "Model: \"sequential_1\"\n",
      "_________________________________________________________________\n",
      "Layer (type)                 Output Shape              Param #   \n",
      "=================================================================\n",
      "conv2d (Conv2D)              (None, 9, 9, 32)          320       \n",
      "_________________________________________________________________\n",
      "activation (Activation)      (None, 9, 9, 32)          0         \n",
      "_________________________________________________________________\n",
      "conv2d_1 (Conv2D)            (None, 3, 3, 32)          9248      \n",
      "_________________________________________________________________\n",
      "activation_1 (Activation)    (None, 3, 3, 32)          0         \n",
      "_________________________________________________________________\n",
      "max_pooling2d (MaxPooling2D) (None, 1, 1, 32)          0         \n",
      "_________________________________________________________________\n",
      "dropout (Dropout)            (None, 1, 1, 32)          0         \n",
      "_________________________________________________________________\n",
      "flatten (Flatten)            (None, 32)                0         \n",
      "_________________________________________________________________\n",
      "dense (Dense)                (None, 128)               4224      \n",
      "_________________________________________________________________\n",
      "activation_2 (Activation)    (None, 128)               0         \n",
      "_________________________________________________________________\n",
      "dropout_1 (Dropout)          (None, 128)               0         \n",
      "_________________________________________________________________\n",
      "dense_1 (Dense)              (None, 10)                1290      \n",
      "_________________________________________________________________\n",
      "activation_3 (Activation)    (None, 10)                0         \n",
      "=================================================================\n",
      "Total params: 15,082\n",
      "Trainable params: 15,082\n",
      "Non-trainable params: 0\n",
      "_________________________________________________________________\n"
     ]
    }
   ],
   "source": [
    "# convert class vectors to binary class matrices\n",
    "Y_train = np_utils.to_categorical(y_train, nb_classes)\n",
    "Y_test = np_utils.to_categorical(y_test, nb_classes)\n",
    "\n",
    "model = Sequential()\n",
    "\n",
    "model.add(Convolution2D(nb_filters, kernel_size[0], kernel_size[1],\n",
    "                        padding='valid',\n",
    "                        input_shape=input_shape))\n",
    "model.add(Activation('relu'))\n",
    "model.add(Convolution2D(nb_filters, kernel_size[0], kernel_size[1]))\n",
    "model.add(Activation('relu'))\n",
    "model.add(MaxPooling2D(pool_size=pool_size))\n",
    "model.add(Dropout(0.25))\n",
    "\n",
    "model.add(Flatten())\n",
    "model.add(Dense(128))\n",
    "model.add(Activation('relu'))\n",
    "model.add(Dropout(0.5))\n",
    "model.add(Dense(nb_classes))\n",
    "model.add(Activation('softmax'))\n",
    "\n",
    "model.summary()"
   ]
  },
  {
   "cell_type": "code",
   "execution_count": 10,
   "id": "5813ce78-a362-4103-b5a5-a3b18c9f9a94",
   "metadata": {},
   "outputs": [],
   "source": [
    "model.compile(loss='categorical_crossentropy',\n",
    "              optimizer='adam',metrics=['accuracy'])\n",
    " "
   ]
  },
  {
   "cell_type": "code",
   "execution_count": 12,
   "id": "a2b6684c-1f6e-4d4d-b129-551c6c871a6e",
   "metadata": {},
   "outputs": [
    {
     "name": "stdout",
     "output_type": "stream",
     "text": [
      "Epoch 1/12\n",
      "469/469 [==============================] - 23s 8ms/step - loss: 1.5101 - accuracy: 0.4903 - val_loss: 0.4999 - val_accuracy: 0.8568\n",
      "Epoch 2/12\n",
      "469/469 [==============================] - 3s 7ms/step - loss: 0.7271 - accuracy: 0.7755 - val_loss: 0.3936 - val_accuracy: 0.8789\n",
      "Epoch 3/12\n",
      "469/469 [==============================] - 3s 7ms/step - loss: 0.6141 - accuracy: 0.8127 - val_loss: 0.3505 - val_accuracy: 0.8967\n",
      "Epoch 4/12\n",
      "469/469 [==============================] - 3s 7ms/step - loss: 0.5535 - accuracy: 0.8308 - val_loss: 0.3223 - val_accuracy: 0.9037\n",
      "Epoch 5/12\n",
      "469/469 [==============================] - 3s 7ms/step - loss: 0.5136 - accuracy: 0.8449 - val_loss: 0.3022 - val_accuracy: 0.9100\n",
      "Epoch 6/12\n",
      "469/469 [==============================] - 3s 7ms/step - loss: 0.4804 - accuracy: 0.8523 - val_loss: 0.2792 - val_accuracy: 0.9185\n",
      "Epoch 7/12\n",
      "469/469 [==============================] - 3s 6ms/step - loss: 0.4641 - accuracy: 0.8598 - val_loss: 0.2735 - val_accuracy: 0.9193\n",
      "Epoch 8/12\n",
      "469/469 [==============================] - 3s 6ms/step - loss: 0.4446 - accuracy: 0.8660 - val_loss: 0.2596 - val_accuracy: 0.9222\n",
      "Epoch 9/12\n",
      "469/469 [==============================] - 3s 7ms/step - loss: 0.4362 - accuracy: 0.8683 - val_loss: 0.2596 - val_accuracy: 0.9212\n",
      "Epoch 10/12\n",
      "469/469 [==============================] - 3s 7ms/step - loss: 0.4200 - accuracy: 0.8716 - val_loss: 0.2461 - val_accuracy: 0.9254\n",
      "Epoch 11/12\n",
      "469/469 [==============================] - 3s 7ms/step - loss: 0.4071 - accuracy: 0.8771 - val_loss: 0.2467 - val_accuracy: 0.9238\n",
      "Epoch 12/12\n",
      "469/469 [==============================] - 3s 6ms/step - loss: 0.4047 - accuracy: 0.8775 - val_loss: 0.2373 - val_accuracy: 0.9289\n",
      "Test score: 0.23725061118602753\n",
      "Test accuracy: 0.9289000034332275\n"
     ]
    }
   ],
   "source": [
    "             \n",
    "\n",
    "model.fit(X_train, Y_train, batch_size=batch_size, epochs=nb_epoch,\n",
    "          verbose=1, validation_data=(X_test, Y_test))\n",
    "score = model.evaluate(X_test, Y_test, verbose=0)\n",
    "print('Test score:', score[0])\n",
    "print('Test accuracy:', score[1])"
   ]
  },
  {
   "cell_type": "code",
   "execution_count": 13,
   "id": "fc34ff5c-0a68-49da-a9db-af4ce7d59890",
   "metadata": {},
   "outputs": [],
   "source": [
    "model.save('my_model.h5')\n",
    "\n",
    "# save the weights\n",
    "model.save_weights('my_model_weights.h5')\n",
    "\n",
    "# save the architecture\n",
    "with open('my_model_architecture.json', 'w') as f:\n",
    "    f.write(model.to_json())"
   ]
  },
  {
   "cell_type": "code",
   "execution_count": null,
   "id": "ec66dae5-b829-49f6-be0f-b8c05034fd24",
   "metadata": {},
   "outputs": [],
   "source": []
  }
 ],
 "metadata": {
  "kernelspec": {
   "display_name": "Python 3",
   "language": "python",
   "name": "python3"
  },
  "language_info": {
   "codemirror_mode": {
    "name": "ipython",
    "version": 3
   },
   "file_extension": ".py",
   "mimetype": "text/x-python",
   "name": "python",
   "nbconvert_exporter": "python",
   "pygments_lexer": "ipython3",
   "version": "3.8.8"
  }
 },
 "nbformat": 4,
 "nbformat_minor": 5
}
