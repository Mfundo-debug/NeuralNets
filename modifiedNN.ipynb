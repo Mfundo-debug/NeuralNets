{
 "cells": [
  {
   "cell_type": "code",
   "execution_count": 1,
   "id": "c22204be-3c5b-45c3-96ca-8aae2dd66d2d",
   "metadata": {},
   "outputs": [],
   "source": [
    "import numpy as np"
   ]
  },
  {
   "cell_type": "code",
   "execution_count": 6,
   "id": "4dd93336-9f1f-45da-9c70-434773a3e211",
   "metadata": {},
   "outputs": [],
   "source": [
    "def sigmoid(x):\n",
    "    return 1/(1 + np.exp(-x))\n",
    "\n",
    "def sigmoid_dt(x):\n",
    "    return x * (1-x)\n",
    "\n",
    "X = np.array([[0,0,1],\n",
    "             [0,1,1],\n",
    "             [1,0,1],\n",
    "             [1,1,1]])\n",
    "\n",
    "y = np.array([[0], [1], [1], [0]])\n",
    "epoch = 5000\n",
    "lr = 0.1\n",
    "\n",
    "inputlayer_neurons = X.shape[1]\n",
    "hiddenlayer_neurons = 3\n",
    "output_neurons = 1\n",
    "\n",
    "wh = np.random.uniform(size=(inputlayer_neurons,hiddenlayer_neurons))\n",
    "bh = np.random.uniform(size=(1,hiddenlayer_neurons))\n",
    "wout = np.random.uniform(size=(hiddenlayer_neurons,output_neurons))\n",
    "bout = np.random.uniform(size=(1, output_neurons))"
   ]
  },
  {
   "cell_type": "code",
   "execution_count": 7,
   "id": "f2036457-396b-43b9-9106-36d514a9eef7",
   "metadata": {},
   "outputs": [],
   "source": [
    "for i in range(epoch):\n",
    "    hiddenlayer_input1 = np.dot(X,wh)\n",
    "    hiddenlayer_input = hiddenlayer_input1 + bh\n",
    "    hiddenlayer_activations = sigmoid(hiddenlayer_input)\n",
    "    outputlayer_input1 = np.dot(hiddenlayer_activations,wout)\n",
    "    outputlayer_input = outputlayer_input1 +bout\n",
    "    output = sigmoid(outputlayer_input)\n",
    "    \n",
    "    E = y - output\n",
    "    slopeoutput_layer = sigmoid_dt(output)\n",
    "    slopehidden_layer = sigmoid_dt(hiddenlayer_activations)\n",
    "    d_output = E * slopeoutput_layer\n",
    "    Error_hiddenlayer = d_output.dot(wout.T)\n",
    "    d_hiddenlayer = Error_hiddenlayer * slopehidden_layer\n",
    "    wout += hiddenlayer_activations.T.dot(d_output) * lr\n",
    "    bout += np.sum(d_output, axis=0, keepdims= True) * lr\n",
    "    wh   += X.T.dot(d_hiddenlayer)* lr\n",
    "    bh   += np.sum(d_hiddenlayer, axis=0, keepdims = True) * lr\n",
    "    "
   ]
  },
  {
   "cell_type": "code",
   "execution_count": 8,
   "id": "55af9609-10aa-437e-90ab-2eb37eb20e35",
   "metadata": {},
   "outputs": [
    {
     "name": "stdout",
     "output_type": "stream",
     "text": [
      "[[0.07454993]\n",
      " [0.85074574]\n",
      " [0.84058397]\n",
      " [0.19342592]]\n"
     ]
    }
   ],
   "source": [
    "print(output)"
   ]
  },
  {
   "cell_type": "code",
   "execution_count": null,
   "id": "49633c79-d3a5-4f77-98ae-47544de40cae",
   "metadata": {},
   "outputs": [],
   "source": []
  }
 ],
 "metadata": {
  "kernelspec": {
   "display_name": "Python 3 (ipykernel)",
   "language": "python",
   "name": "python3"
  },
  "language_info": {
   "codemirror_mode": {
    "name": "ipython",
    "version": 3
   },
   "file_extension": ".py",
   "mimetype": "text/x-python",
   "name": "python",
   "nbconvert_exporter": "python",
   "pygments_lexer": "ipython3",
   "version": "3.8.8"
  }
 },
 "nbformat": 4,
 "nbformat_minor": 5
}
